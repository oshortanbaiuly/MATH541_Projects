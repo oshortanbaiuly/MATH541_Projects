{
  "cells": [
    {
      "cell_type": "markdown",
      "id": "cf97313d",
      "metadata": {
        "id": "cf97313d"
      },
      "source": [
        "# MATH541 Data Analysis and Statistical Learning Project 3"
      ]
    },
    {
      "cell_type": "markdown",
      "id": "bbac9938",
      "metadata": {
        "id": "bbac9938"
      },
      "source": [
        "## Author: Olzhas Shortanbaiuly"
      ]
    },
    {
      "cell_type": "code",
      "execution_count": null,
      "id": "52f2e6ed",
      "metadata": {
        "id": "52f2e6ed"
      },
      "outputs": [],
      "source": [
        "import numpy as np\n",
        "import pandas as pd\n",
        "import matplotlib.pyplot as plt\n",
        "from sklearn.preprocessing import StandardScaler"
      ]
    },
    {
      "cell_type": "code",
      "execution_count": null,
      "id": "79a99482",
      "metadata": {
        "id": "79a99482",
        "outputId": "f4cb7cca-b52c-4d72-fd5f-16a96b148f4a"
      },
      "outputs": [
        {
          "name": "stdout",
          "output_type": "stream",
          "text": [
            "Note: you may need to restart the kernel to use updated packages.\n"
          ]
        },
        {
          "name": "stderr",
          "output_type": "stream",
          "text": [
            "‘Ё­в ЄбЁзҐбЄ п ®иЁЎЄ  ў Ё¬Ґ­Ё д ©« , Ё¬Ґ­Ё Ї ЇЄЁ Ё«Ё ¬ҐвЄҐ в®¬ .\n"
          ]
        }
      ],
      "source": [
        "pip install gdown"
      ]
    },
    {
      "cell_type": "code",
      "execution_count": null,
      "id": "8368cd95",
      "metadata": {
        "colab": {
          "base_uri": "https://localhost:8080/",
          "height": 299
        },
        "id": "8368cd95",
        "outputId": "3fd87f6c-32c0-4166-ca1b-188687454505"
      },
      "outputs": [
        {
          "data": {
            "text/html": [
              "<div>\n",
              "<style scoped>\n",
              "    .dataframe tbody tr th:only-of-type {\n",
              "        vertical-align: middle;\n",
              "    }\n",
              "\n",
              "    .dataframe tbody tr th {\n",
              "        vertical-align: top;\n",
              "    }\n",
              "\n",
              "    .dataframe thead th {\n",
              "        text-align: right;\n",
              "    }\n",
              "</style>\n",
              "<table border=\"1\" class=\"dataframe\">\n",
              "  <thead>\n",
              "    <tr style=\"text-align: right;\">\n",
              "      <th></th>\n",
              "      <th>0</th>\n",
              "      <th>1</th>\n",
              "      <th>2</th>\n",
              "      <th>3</th>\n",
              "      <th>4</th>\n",
              "      <th>5</th>\n",
              "      <th>6</th>\n",
              "      <th>7</th>\n",
              "      <th>8</th>\n",
              "      <th>9</th>\n",
              "      <th>...</th>\n",
              "      <th>19</th>\n",
              "      <th>20</th>\n",
              "      <th>21</th>\n",
              "      <th>22</th>\n",
              "      <th>23</th>\n",
              "      <th>24</th>\n",
              "      <th>25</th>\n",
              "      <th>26</th>\n",
              "      <th>27</th>\n",
              "      <th>28</th>\n",
              "    </tr>\n",
              "  </thead>\n",
              "  <tbody>\n",
              "    <tr>\n",
              "      <th>0</th>\n",
              "      <td>1.0</td>\n",
              "      <td>0.869293</td>\n",
              "      <td>-0.635082</td>\n",
              "      <td>0.225690</td>\n",
              "      <td>0.327470</td>\n",
              "      <td>-0.689993</td>\n",
              "      <td>0.754202</td>\n",
              "      <td>-0.248573</td>\n",
              "      <td>-1.092064</td>\n",
              "      <td>0.000000</td>\n",
              "      <td>...</td>\n",
              "      <td>-0.010455</td>\n",
              "      <td>-0.045767</td>\n",
              "      <td>3.101961</td>\n",
              "      <td>1.353760</td>\n",
              "      <td>0.979563</td>\n",
              "      <td>0.978076</td>\n",
              "      <td>0.920005</td>\n",
              "      <td>0.721657</td>\n",
              "      <td>0.988751</td>\n",
              "      <td>0.876678</td>\n",
              "    </tr>\n",
              "    <tr>\n",
              "      <th>1</th>\n",
              "      <td>1.0</td>\n",
              "      <td>0.907542</td>\n",
              "      <td>0.329147</td>\n",
              "      <td>0.359412</td>\n",
              "      <td>1.497970</td>\n",
              "      <td>-0.313010</td>\n",
              "      <td>1.095531</td>\n",
              "      <td>-0.557525</td>\n",
              "      <td>-1.588230</td>\n",
              "      <td>2.173076</td>\n",
              "      <td>...</td>\n",
              "      <td>-1.138930</td>\n",
              "      <td>-0.000819</td>\n",
              "      <td>0.000000</td>\n",
              "      <td>0.302220</td>\n",
              "      <td>0.833048</td>\n",
              "      <td>0.985700</td>\n",
              "      <td>0.978098</td>\n",
              "      <td>0.779732</td>\n",
              "      <td>0.992356</td>\n",
              "      <td>0.798343</td>\n",
              "    </tr>\n",
              "    <tr>\n",
              "      <th>2</th>\n",
              "      <td>1.0</td>\n",
              "      <td>0.798835</td>\n",
              "      <td>1.470639</td>\n",
              "      <td>-1.635975</td>\n",
              "      <td>0.453773</td>\n",
              "      <td>0.425629</td>\n",
              "      <td>1.104875</td>\n",
              "      <td>1.282322</td>\n",
              "      <td>1.381664</td>\n",
              "      <td>0.000000</td>\n",
              "      <td>...</td>\n",
              "      <td>1.128848</td>\n",
              "      <td>0.900461</td>\n",
              "      <td>0.000000</td>\n",
              "      <td>0.909753</td>\n",
              "      <td>1.108330</td>\n",
              "      <td>0.985692</td>\n",
              "      <td>0.951331</td>\n",
              "      <td>0.803252</td>\n",
              "      <td>0.865924</td>\n",
              "      <td>0.780118</td>\n",
              "    </tr>\n",
              "    <tr>\n",
              "      <th>3</th>\n",
              "      <td>0.0</td>\n",
              "      <td>1.344385</td>\n",
              "      <td>-0.876626</td>\n",
              "      <td>0.935913</td>\n",
              "      <td>1.992050</td>\n",
              "      <td>0.882454</td>\n",
              "      <td>1.786066</td>\n",
              "      <td>-1.646778</td>\n",
              "      <td>-0.942383</td>\n",
              "      <td>0.000000</td>\n",
              "      <td>...</td>\n",
              "      <td>-0.678379</td>\n",
              "      <td>-1.360356</td>\n",
              "      <td>0.000000</td>\n",
              "      <td>0.946652</td>\n",
              "      <td>1.028704</td>\n",
              "      <td>0.998656</td>\n",
              "      <td>0.728281</td>\n",
              "      <td>0.869200</td>\n",
              "      <td>1.026736</td>\n",
              "      <td>0.957904</td>\n",
              "    </tr>\n",
              "    <tr>\n",
              "      <th>4</th>\n",
              "      <td>1.0</td>\n",
              "      <td>1.105009</td>\n",
              "      <td>0.321356</td>\n",
              "      <td>1.522401</td>\n",
              "      <td>0.882808</td>\n",
              "      <td>-1.205349</td>\n",
              "      <td>0.681466</td>\n",
              "      <td>-1.070464</td>\n",
              "      <td>-0.921871</td>\n",
              "      <td>0.000000</td>\n",
              "      <td>...</td>\n",
              "      <td>-0.373566</td>\n",
              "      <td>0.113041</td>\n",
              "      <td>0.000000</td>\n",
              "      <td>0.755856</td>\n",
              "      <td>1.361057</td>\n",
              "      <td>0.986610</td>\n",
              "      <td>0.838085</td>\n",
              "      <td>1.133295</td>\n",
              "      <td>0.872245</td>\n",
              "      <td>0.808487</td>\n",
              "    </tr>\n",
              "  </tbody>\n",
              "</table>\n",
              "<p>5 rows × 29 columns</p>\n",
              "</div>"
            ],
            "text/plain": [
              "    0         1         2         3         4         5         6         7   \\\n",
              "0  1.0  0.869293 -0.635082  0.225690  0.327470 -0.689993  0.754202 -0.248573   \n",
              "1  1.0  0.907542  0.329147  0.359412  1.497970 -0.313010  1.095531 -0.557525   \n",
              "2  1.0  0.798835  1.470639 -1.635975  0.453773  0.425629  1.104875  1.282322   \n",
              "3  0.0  1.344385 -0.876626  0.935913  1.992050  0.882454  1.786066 -1.646778   \n",
              "4  1.0  1.105009  0.321356  1.522401  0.882808 -1.205349  0.681466 -1.070464   \n",
              "\n",
              "         8         9   ...        19        20        21        22        23  \\\n",
              "0 -1.092064  0.000000  ... -0.010455 -0.045767  3.101961  1.353760  0.979563   \n",
              "1 -1.588230  2.173076  ... -1.138930 -0.000819  0.000000  0.302220  0.833048   \n",
              "2  1.381664  0.000000  ...  1.128848  0.900461  0.000000  0.909753  1.108330   \n",
              "3 -0.942383  0.000000  ... -0.678379 -1.360356  0.000000  0.946652  1.028704   \n",
              "4 -0.921871  0.000000  ... -0.373566  0.113041  0.000000  0.755856  1.361057   \n",
              "\n",
              "         24        25        26        27        28  \n",
              "0  0.978076  0.920005  0.721657  0.988751  0.876678  \n",
              "1  0.985700  0.978098  0.779732  0.992356  0.798343  \n",
              "2  0.985692  0.951331  0.803252  0.865924  0.780118  \n",
              "3  0.998656  0.728281  0.869200  1.026736  0.957904  \n",
              "4  0.986610  0.838085  1.133295  0.872245  0.808487  \n",
              "\n",
              "[5 rows x 29 columns]"
            ]
          },
          "execution_count": 8,
          "metadata": {},
          "output_type": "execute_result"
        }
      ],
      "source": [
        "data = pd.read_csv(r'C:\\Users\\Nurhan\\Desktop\\HIGGS.csv', header = None)\n",
        "data.head()"
      ]
    },
    {
      "cell_type": "code",
      "execution_count": null,
      "id": "exv3jQQABFEx",
      "metadata": {
        "colab": {
          "base_uri": "https://localhost:8080/",
          "height": 299
        },
        "id": "exv3jQQABFEx",
        "outputId": "4eab4848-f7ca-4d9e-a706-0e59d8c8a2a7"
      },
      "outputs": [
        {
          "data": {
            "text/html": [
              "\n",
              "  <div id=\"df-1f6ec42c-d554-4ad7-b55a-d9190785ac99\">\n",
              "    <div class=\"colab-df-container\">\n",
              "      <div>\n",
              "<style scoped>\n",
              "    .dataframe tbody tr th:only-of-type {\n",
              "        vertical-align: middle;\n",
              "    }\n",
              "\n",
              "    .dataframe tbody tr th {\n",
              "        vertical-align: top;\n",
              "    }\n",
              "\n",
              "    .dataframe thead th {\n",
              "        text-align: right;\n",
              "    }\n",
              "</style>\n",
              "<table border=\"1\" class=\"dataframe\">\n",
              "  <thead>\n",
              "    <tr style=\"text-align: right;\">\n",
              "      <th></th>\n",
              "      <th>0</th>\n",
              "      <th>1</th>\n",
              "      <th>2</th>\n",
              "      <th>3</th>\n",
              "      <th>4</th>\n",
              "      <th>5</th>\n",
              "      <th>6</th>\n",
              "      <th>7</th>\n",
              "      <th>8</th>\n",
              "      <th>9</th>\n",
              "      <th>...</th>\n",
              "      <th>19</th>\n",
              "      <th>20</th>\n",
              "      <th>21</th>\n",
              "      <th>22</th>\n",
              "      <th>23</th>\n",
              "      <th>24</th>\n",
              "      <th>25</th>\n",
              "      <th>26</th>\n",
              "      <th>27</th>\n",
              "      <th>28</th>\n",
              "    </tr>\n",
              "  </thead>\n",
              "  <tbody>\n",
              "    <tr>\n",
              "      <th>10999995</th>\n",
              "      <td>1.0</td>\n",
              "      <td>1.159912</td>\n",
              "      <td>1.013847</td>\n",
              "      <td>0.108615</td>\n",
              "      <td>1.495524</td>\n",
              "      <td>-0.537545</td>\n",
              "      <td>2.342396</td>\n",
              "      <td>-0.839740</td>\n",
              "      <td>1.320683</td>\n",
              "      <td>0.000000</td>\n",
              "      <td>...</td>\n",
              "      <td>-0.097068</td>\n",
              "      <td>1.190680</td>\n",
              "      <td>3.101961</td>\n",
              "      <td>0.822136</td>\n",
              "      <td>0.766772</td>\n",
              "      <td>1.002191</td>\n",
              "      <td>1.061233</td>\n",
              "      <td>0.837004</td>\n",
              "      <td>0.860472</td>\n",
              "      <td>0.772484</td>\n",
              "    </tr>\n",
              "    <tr>\n",
              "      <th>10999996</th>\n",
              "      <td>1.0</td>\n",
              "      <td>0.618388</td>\n",
              "      <td>-1.012982</td>\n",
              "      <td>1.110139</td>\n",
              "      <td>0.941023</td>\n",
              "      <td>-0.379199</td>\n",
              "      <td>1.004656</td>\n",
              "      <td>0.348535</td>\n",
              "      <td>-1.678593</td>\n",
              "      <td>2.173076</td>\n",
              "      <td>...</td>\n",
              "      <td>-0.216995</td>\n",
              "      <td>1.049177</td>\n",
              "      <td>3.101961</td>\n",
              "      <td>0.826829</td>\n",
              "      <td>0.989809</td>\n",
              "      <td>1.029104</td>\n",
              "      <td>1.199679</td>\n",
              "      <td>0.891481</td>\n",
              "      <td>0.938490</td>\n",
              "      <td>0.865269</td>\n",
              "    </tr>\n",
              "    <tr>\n",
              "      <th>10999997</th>\n",
              "      <td>1.0</td>\n",
              "      <td>0.700559</td>\n",
              "      <td>0.774251</td>\n",
              "      <td>1.520182</td>\n",
              "      <td>0.847112</td>\n",
              "      <td>0.211230</td>\n",
              "      <td>1.095531</td>\n",
              "      <td>0.052457</td>\n",
              "      <td>0.024553</td>\n",
              "      <td>2.173076</td>\n",
              "      <td>...</td>\n",
              "      <td>1.585235</td>\n",
              "      <td>1.713962</td>\n",
              "      <td>0.000000</td>\n",
              "      <td>0.337374</td>\n",
              "      <td>0.845208</td>\n",
              "      <td>0.987610</td>\n",
              "      <td>0.883422</td>\n",
              "      <td>1.888438</td>\n",
              "      <td>1.153766</td>\n",
              "      <td>0.931279</td>\n",
              "    </tr>\n",
              "    <tr>\n",
              "      <th>10999998</th>\n",
              "      <td>0.0</td>\n",
              "      <td>1.178030</td>\n",
              "      <td>0.117796</td>\n",
              "      <td>-1.276980</td>\n",
              "      <td>1.864457</td>\n",
              "      <td>-0.584370</td>\n",
              "      <td>0.998519</td>\n",
              "      <td>-1.264549</td>\n",
              "      <td>1.276333</td>\n",
              "      <td>0.000000</td>\n",
              "      <td>...</td>\n",
              "      <td>1.399515</td>\n",
              "      <td>-1.313189</td>\n",
              "      <td>0.000000</td>\n",
              "      <td>0.838842</td>\n",
              "      <td>0.882890</td>\n",
              "      <td>1.201380</td>\n",
              "      <td>0.939216</td>\n",
              "      <td>0.339705</td>\n",
              "      <td>0.759070</td>\n",
              "      <td>0.719119</td>\n",
              "    </tr>\n",
              "    <tr>\n",
              "      <th>10999999</th>\n",
              "      <td>0.0</td>\n",
              "      <td>0.464477</td>\n",
              "      <td>-0.337047</td>\n",
              "      <td>0.229019</td>\n",
              "      <td>0.954596</td>\n",
              "      <td>-0.868466</td>\n",
              "      <td>0.430004</td>\n",
              "      <td>-0.271348</td>\n",
              "      <td>-1.252278</td>\n",
              "      <td>2.173076</td>\n",
              "      <td>...</td>\n",
              "      <td>-1.652782</td>\n",
              "      <td>-0.586254</td>\n",
              "      <td>0.000000</td>\n",
              "      <td>0.752535</td>\n",
              "      <td>0.740727</td>\n",
              "      <td>0.986917</td>\n",
              "      <td>0.663952</td>\n",
              "      <td>0.576084</td>\n",
              "      <td>0.541427</td>\n",
              "      <td>0.517420</td>\n",
              "    </tr>\n",
              "  </tbody>\n",
              "</table>\n",
              "<p>5 rows × 29 columns</p>\n",
              "</div>\n",
              "      <button class=\"colab-df-convert\" onclick=\"convertToInteractive('df-1f6ec42c-d554-4ad7-b55a-d9190785ac99')\"\n",
              "              title=\"Convert this dataframe to an interactive table.\"\n",
              "              style=\"display:none;\">\n",
              "        \n",
              "  <svg xmlns=\"http://www.w3.org/2000/svg\" height=\"24px\"viewBox=\"0 0 24 24\"\n",
              "       width=\"24px\">\n",
              "    <path d=\"M0 0h24v24H0V0z\" fill=\"none\"/>\n",
              "    <path d=\"M18.56 5.44l.94 2.06.94-2.06 2.06-.94-2.06-.94-.94-2.06-.94 2.06-2.06.94zm-11 1L8.5 8.5l.94-2.06 2.06-.94-2.06-.94L8.5 2.5l-.94 2.06-2.06.94zm10 10l.94 2.06.94-2.06 2.06-.94-2.06-.94-.94-2.06-.94 2.06-2.06.94z\"/><path d=\"M17.41 7.96l-1.37-1.37c-.4-.4-.92-.59-1.43-.59-.52 0-1.04.2-1.43.59L10.3 9.45l-7.72 7.72c-.78.78-.78 2.05 0 2.83L4 21.41c.39.39.9.59 1.41.59.51 0 1.02-.2 1.41-.59l7.78-7.78 2.81-2.81c.8-.78.8-2.07 0-2.86zM5.41 20L4 18.59l7.72-7.72 1.47 1.35L5.41 20z\"/>\n",
              "  </svg>\n",
              "      </button>\n",
              "      \n",
              "  <style>\n",
              "    .colab-df-container {\n",
              "      display:flex;\n",
              "      flex-wrap:wrap;\n",
              "      gap: 12px;\n",
              "    }\n",
              "\n",
              "    .colab-df-convert {\n",
              "      background-color: #E8F0FE;\n",
              "      border: none;\n",
              "      border-radius: 50%;\n",
              "      cursor: pointer;\n",
              "      display: none;\n",
              "      fill: #1967D2;\n",
              "      height: 32px;\n",
              "      padding: 0 0 0 0;\n",
              "      width: 32px;\n",
              "    }\n",
              "\n",
              "    .colab-df-convert:hover {\n",
              "      background-color: #E2EBFA;\n",
              "      box-shadow: 0px 1px 2px rgba(60, 64, 67, 0.3), 0px 1px 3px 1px rgba(60, 64, 67, 0.15);\n",
              "      fill: #174EA6;\n",
              "    }\n",
              "\n",
              "    [theme=dark] .colab-df-convert {\n",
              "      background-color: #3B4455;\n",
              "      fill: #D2E3FC;\n",
              "    }\n",
              "\n",
              "    [theme=dark] .colab-df-convert:hover {\n",
              "      background-color: #434B5C;\n",
              "      box-shadow: 0px 1px 3px 1px rgba(0, 0, 0, 0.15);\n",
              "      filter: drop-shadow(0px 1px 2px rgba(0, 0, 0, 0.3));\n",
              "      fill: #FFFFFF;\n",
              "    }\n",
              "  </style>\n",
              "\n",
              "      <script>\n",
              "        const buttonEl =\n",
              "          document.querySelector('#df-1f6ec42c-d554-4ad7-b55a-d9190785ac99 button.colab-df-convert');\n",
              "        buttonEl.style.display =\n",
              "          google.colab.kernel.accessAllowed ? 'block' : 'none';\n",
              "\n",
              "        async function convertToInteractive(key) {\n",
              "          const element = document.querySelector('#df-1f6ec42c-d554-4ad7-b55a-d9190785ac99');\n",
              "          const dataTable =\n",
              "            await google.colab.kernel.invokeFunction('convertToInteractive',\n",
              "                                                     [key], {});\n",
              "          if (!dataTable) return;\n",
              "\n",
              "          const docLinkHtml = 'Like what you see? Visit the ' +\n",
              "            '<a target=\"_blank\" href=https://colab.research.google.com/notebooks/data_table.ipynb>data table notebook</a>'\n",
              "            + ' to learn more about interactive tables.';\n",
              "          element.innerHTML = '';\n",
              "          dataTable['output_type'] = 'display_data';\n",
              "          await google.colab.output.renderOutput(dataTable, element);\n",
              "          const docLink = document.createElement('div');\n",
              "          docLink.innerHTML = docLinkHtml;\n",
              "          element.appendChild(docLink);\n",
              "        }\n",
              "      </script>\n",
              "    </div>\n",
              "  </div>\n",
              "  "
            ],
            "text/plain": [
              "           0         1         2         3         4         5         6   \\\n",
              "10999995  1.0  1.159912  1.013847  0.108615  1.495524 -0.537545  2.342396   \n",
              "10999996  1.0  0.618388 -1.012982  1.110139  0.941023 -0.379199  1.004656   \n",
              "10999997  1.0  0.700559  0.774251  1.520182  0.847112  0.211230  1.095531   \n",
              "10999998  0.0  1.178030  0.117796 -1.276980  1.864457 -0.584370  0.998519   \n",
              "10999999  0.0  0.464477 -0.337047  0.229019  0.954596 -0.868466  0.430004   \n",
              "\n",
              "                7         8         9   ...        19        20        21  \\\n",
              "10999995 -0.839740  1.320683  0.000000  ... -0.097068  1.190680  3.101961   \n",
              "10999996  0.348535 -1.678593  2.173076  ... -0.216995  1.049177  3.101961   \n",
              "10999997  0.052457  0.024553  2.173076  ...  1.585235  1.713962  0.000000   \n",
              "10999998 -1.264549  1.276333  0.000000  ...  1.399515 -1.313189  0.000000   \n",
              "10999999 -0.271348 -1.252278  2.173076  ... -1.652782 -0.586254  0.000000   \n",
              "\n",
              "                22        23        24        25        26        27        28  \n",
              "10999995  0.822136  0.766772  1.002191  1.061233  0.837004  0.860472  0.772484  \n",
              "10999996  0.826829  0.989809  1.029104  1.199679  0.891481  0.938490  0.865269  \n",
              "10999997  0.337374  0.845208  0.987610  0.883422  1.888438  1.153766  0.931279  \n",
              "10999998  0.838842  0.882890  1.201380  0.939216  0.339705  0.759070  0.719119  \n",
              "10999999  0.752535  0.740727  0.986917  0.663952  0.576084  0.541427  0.517420  \n",
              "\n",
              "[5 rows x 29 columns]"
            ]
          },
          "execution_count": 4,
          "metadata": {},
          "output_type": "execute_result"
        }
      ],
      "source": [
        "data.tail()"
      ]
    },
    {
      "cell_type": "code",
      "execution_count": null,
      "id": "08ddb492",
      "metadata": {
        "id": "08ddb492"
      },
      "outputs": [],
      "source": [
        "# Separate features X and target variable y\n",
        "X = data.iloc[:, 1:]\n",
        "y = data.iloc[:, 0]"
      ]
    },
    {
      "cell_type": "code",
      "execution_count": null,
      "id": "642cba3c",
      "metadata": {
        "id": "642cba3c"
      },
      "outputs": [],
      "source": [
        "# Standardize all the features\n",
        "scaler = StandardScaler()\n",
        "scaler.fit(X)\n",
        "X_std = scaler.transform(X)"
      ]
    },
    {
      "cell_type": "code",
      "execution_count": null,
      "id": "a44ed2bd",
      "metadata": {
        "id": "a44ed2bd"
      },
      "outputs": [],
      "source": [
        "# Calculate the mean of the standardized features and center the data\n",
        "X_mean = np.mean(X_std, axis = 0)\n",
        "X_centered = X_std - X_mean"
      ]
    },
    {
      "cell_type": "code",
      "execution_count": null,
      "id": "60b29904",
      "metadata": {
        "id": "60b29904"
      },
      "outputs": [],
      "source": [
        "# Perform Singular Value Decomposition\n",
        "U, S, Vh = np.linalg.svd(X_centered, full_matrices = False)"
      ]
    },
    {
      "cell_type": "code",
      "execution_count": null,
      "id": "a2c3c8cb",
      "metadata": {
        "id": "a2c3c8cb"
      },
      "outputs": [],
      "source": [
        "total_variance = np.sum(S ** 2)\n",
        "\n",
        "# Calculate the retained variance for different k values\n",
        "retained_variance = np.array([np.sum((S[:k]) ** 2) for k in range(1, len(S) + 1)])\n",
        "\n",
        "# Calculate the total-variance-to-retain-ratio\n",
        "total_variance_to_retain_ratio = retained_variance / total_variance"
      ]
    },
    {
      "cell_type": "code",
      "execution_count": null,
      "id": "6aebed51",
      "metadata": {
        "id": "6aebed51",
        "outputId": "c28f83c0-505c-4b5f-a638-ba7ccc4f370a"
      },
      "outputs": [
        {
          "data": {
            "image/png": "[encoded data removed]",
            "text/plain": [
              "<Figure size 432x288 with 1 Axes>"
            ]
          },
          "metadata": {
            "needs_background": "light"
          },
          "output_type": "display_data"
        }
      ],
      "source": [
        "# Draw a graph of the total-variance-to-retain-ratio as a function of k:\n",
        "\n",
        "plt.plot(range(1, len(S) + 1), total_variance_to_retain_ratio)\n",
        "plt.xlabel('Number of Principal Components (k)')\n",
        "plt.ylabel('Total Variance to Retain Ratio')\n",
        "plt.title('Total Variance to Retain Ratio vs Number of Principal Components')\n",
        "plt.show()"
      ]
    },
    {
      "cell_type": "code",
      "execution_count": null,
      "id": "f2c06e23",
      "metadata": {
        "id": "f2c06e23",
        "outputId": "a8dbe924-1aab-47ab-d4fc-dd32bd4b0fdc"
      },
      "outputs": [
        {
          "data": {
            "text/plain": [
              "28"
            ]
          },
          "execution_count": 22,
          "metadata": {},
          "output_type": "execute_result"
        }
      ],
      "source": [
        "len(S)"
      ]
    },
    {
      "cell_type": "code",
      "execution_count": null,
      "id": "caeca0a8",
      "metadata": {
        "id": "caeca0a8"
      },
      "outputs": [],
      "source": []
    }
  ],
  "metadata": {
    "accelerator": "GPU",
    "colab": {
      "gpuType": "T4",
      "provenance": []
    },
    "gpuClass": "standard",
    "kernelspec": {
      "display_name": "Python 3 (ipykernel)",
      "language": "python",
      "name": "python3"
    },
    "language_info": {
      "codemirror_mode": {
        "name": "ipython",
        "version": 3
      },
      "file_extension": ".py",
      "mimetype": "text/x-python",
      "name": "python",
      "nbconvert_exporter": "python",
      "pygments_lexer": "ipython3",
      "version": "3.9.13"
    }
  },
  "nbformat": 4,
  "nbformat_minor": 5
}